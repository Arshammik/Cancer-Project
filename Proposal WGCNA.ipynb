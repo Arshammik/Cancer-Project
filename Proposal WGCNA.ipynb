{
 "cells": [
  {
   "cell_type": "markdown",
   "id": "ef142e20",
   "metadata": {},
   "source": [
    "# A Pan Cancer Atlas\n",
    "## A Study In 12 Chapters, A Prologue and An Epilogue\n",
    "\n",
    "### Methodology\n",
    "Using the high throughput data and employing transcriptomics analyses on the targeted dataset, we can evaluate the differentially expressed genes (DEGs), which can affect many biological pathways through their dysregulation. However, these studies cannot describe the quantitative association between genes and failed to give us a deep understanding of complex hierarchical networks and how the genes in critical pathways interact. Alternatively, we can utilize better methods to understand that quantitative association targets, not a set of candidate genes but a network of genes associated with biological processes. For instance, we can employ protein-protein or gene-gene interaction (PPI and GGI), annotated pathways (e.g., KEGG and PANTHER), and gene ontology terms. In this study, we used the RNA co-expression network analysis to find our datasets' most critical gene cluster. Weighted Gene Co-Expression Network Analysis (WGCNA). We aim to evaluate the DEGs and PPI analysis on TCGA datasets in twelve cancer types and study those candidate genes in the associated pathways. Therefore, by using WGCNA, we can score those findings based on the merged and unmerged gene clusters that WGCNA evaluated. Moreover, we can use a machine learning algorithm trained based on the adjacency matrix, which WGCNA constructed from, and associate that module with clinical data. This module will aptly explain at the end of this proposal. \n",
    "First and foremost, we should evaluate our DEGs. In this proposal, we use the LUAD-TCGA project, but the table of the candidate projects of twelve cancer types will be provided in the following."
   ]
  },
  {
   "cell_type": "code",
   "execution_count": 36,
   "id": "5bf09e66",
   "metadata": {
    "scrolled": true
   },
   "outputs": [],
   "source": [
    "# Essentials\n",
    "\n",
    "#install.packages(\"dplyr\")\n",
    "#install.packages(\"ggplot2\")\n",
    "#install.packages(\"pheatmap\")\n",
    "#install.packages(\"parallel\")\n",
    "\n",
    "library(dplyr)\n",
    "library(ggplot2)\n",
    "library(pheatmap)\n",
    "library(parallel)"
   ]
  },
  {
   "cell_type": "markdown",
   "id": "2dac38cc",
   "metadata": {},
   "source": [
    "with our custom code we downloaded LUAD data set from TCGA portal and make a tidy data sets based on each sample file\n"
   ]
  },
  {
   "cell_type": "code",
   "execution_count": 19,
   "id": "d20afc5a",
   "metadata": {},
   "outputs": [],
   "source": [
    "#options(stringsAsFactors = F)\n",
    "setwd(\"~/desktop/THCA/\")\n",
    "ex <- read.delim(\"~/Desktop/THCA/ex_LUAD.tsv\")\n",
    "cn <- ex"
   ]
  },
  {
   "cell_type": "code",
   "execution_count": 20,
   "id": "35310b6d",
   "metadata": {},
   "outputs": [
    {
     "data": {
      "text/html": [
       "<style>\n",
       ".list-inline {list-style: none; margin:0; padding: 0}\n",
       ".list-inline>li {display: inline-block}\n",
       ".list-inline>li:not(:last-child)::after {content: \"\\00b7\"; padding: 0 .5ex}\n",
       "</style>\n",
       "<ol class=list-inline><li>60660</li><li>555</li></ol>\n"
      ],
      "text/latex": [
       "\\begin{enumerate*}\n",
       "\\item 60660\n",
       "\\item 555\n",
       "\\end{enumerate*}\n"
      ],
      "text/markdown": [
       "1. 60660\n",
       "2. 555\n",
       "\n",
       "\n"
      ],
      "text/plain": [
       "[1] 60660   555"
      ]
     },
     "metadata": {},
     "output_type": "display_data"
    },
    {
     "data": {
      "text/html": [
       "<style>\n",
       ".list-inline {list-style: none; margin:0; padding: 0}\n",
       ".list-inline>li {display: inline-block}\n",
       ".list-inline>li:not(:last-child)::after {content: \"\\00b7\"; padding: 0 .5ex}\n",
       "</style>\n",
       "<ol class=list-inline><li>59427</li><li>555</li></ol>\n"
      ],
      "text/latex": [
       "\\begin{enumerate*}\n",
       "\\item 59427\n",
       "\\item 555\n",
       "\\end{enumerate*}\n"
      ],
      "text/markdown": [
       "1. 59427\n",
       "2. 555\n",
       "\n",
       "\n"
      ],
      "text/plain": [
       "[1] 59427   555"
      ]
     },
     "metadata": {},
     "output_type": "display_data"
    }
   ],
   "source": [
    "dim(cn)\n",
    "cn <- distinct(cn, gene_name, .keep_all = TRUE)\n",
    "dim(cn)\n",
    "# lose 1233 genes"
   ]
  },
  {
   "cell_type": "code",
   "execution_count": 22,
   "id": "a54a1693",
   "metadata": {},
   "outputs": [
    {
     "data": {
      "text/html": [
       "<table class=\"dataframe\">\n",
       "<caption>A data.frame: 6 × 551</caption>\n",
       "<thead>\n",
       "\t<tr><th></th><th scope=col>TCGA.55.6972.11A</th><th scope=col>TCGA.86.8075.01A</th><th scope=col>TCGA.69.7763.01A</th><th scope=col>TCGA.38.4631.01A</th><th scope=col>TCGA.05.5425.01A</th><th scope=col>TCGA.MP.A4T7.01A</th><th scope=col>TCGA.J2.A4AD.01A</th><th scope=col>TCGA.38.4625.11A</th><th scope=col>TCGA.55.8299.01A</th><th scope=col>TCGA.05.4395.01A</th><th scope=col>⋯</th><th scope=col>TCGA.69.7978.01A</th><th scope=col>TCGA.05.4398.01A</th><th scope=col>TCGA.50.5931.11A</th><th scope=col>TCGA.49.AARE.01A</th><th scope=col>TCGA.55.6971.01A</th><th scope=col>TCGA.NJ.A4YF.01A</th><th scope=col>TCGA.55.8616.01A</th><th scope=col>TCGA.53.7624.01A</th><th scope=col>TCGA.95.7948.01A</th><th scope=col>TCGA.44.4112.01B</th></tr>\n",
       "\t<tr><th></th><th scope=col>&lt;int&gt;</th><th scope=col>&lt;int&gt;</th><th scope=col>&lt;int&gt;</th><th scope=col>&lt;int&gt;</th><th scope=col>&lt;int&gt;</th><th scope=col>&lt;int&gt;</th><th scope=col>&lt;int&gt;</th><th scope=col>&lt;int&gt;</th><th scope=col>&lt;int&gt;</th><th scope=col>&lt;int&gt;</th><th scope=col>⋯</th><th scope=col>&lt;int&gt;</th><th scope=col>&lt;int&gt;</th><th scope=col>&lt;int&gt;</th><th scope=col>&lt;int&gt;</th><th scope=col>&lt;int&gt;</th><th scope=col>&lt;int&gt;</th><th scope=col>&lt;int&gt;</th><th scope=col>&lt;int&gt;</th><th scope=col>&lt;int&gt;</th><th scope=col>&lt;int&gt;</th></tr>\n",
       "</thead>\n",
       "<tbody>\n",
       "\t<tr><th scope=row>1</th><td> 573</td><td>11426</td><td>1624</td><td>2567</td><td>2393</td><td>1456</td><td>3719</td><td> 1990</td><td>2143</td><td>3131</td><td>⋯</td><td>3153</td><td>6052</td><td> 577</td><td>5209</td><td>1369</td><td>1267</td><td>2718</td><td>2020</td><td>3087</td><td>591</td></tr>\n",
       "\t<tr><th scope=row>2</th><td>   1</td><td>    3</td><td>   0</td><td>   1</td><td>   0</td><td>   0</td><td>   2</td><td>    9</td><td>   0</td><td>   0</td><td>⋯</td><td>   3</td><td>   3</td><td>   1</td><td>   2</td><td>   0</td><td>   0</td><td>   0</td><td>   1</td><td>   0</td><td> 20</td></tr>\n",
       "\t<tr><th scope=row>3</th><td> 619</td><td> 2428</td><td>1588</td><td>1771</td><td>2238</td><td>1851</td><td>2154</td><td> 1984</td><td>1452</td><td>3193</td><td>⋯</td><td>2063</td><td>3726</td><td> 941</td><td>1229</td><td> 703</td><td>3955</td><td>1165</td><td>1419</td><td>2389</td><td>383</td></tr>\n",
       "\t<tr><th scope=row>4</th><td> 370</td><td> 1236</td><td> 498</td><td> 354</td><td> 640</td><td> 650</td><td>1319</td><td>  608</td><td> 737</td><td>1326</td><td>⋯</td><td> 683</td><td>1336</td><td> 275</td><td> 666</td><td> 479</td><td> 362</td><td> 639</td><td> 891</td><td>1171</td><td>871</td></tr>\n",
       "\t<tr><th scope=row>5</th><td>  68</td><td>  888</td><td> 114</td><td> 488</td><td> 468</td><td> 378</td><td> 563</td><td>  161</td><td> 430</td><td> 483</td><td>⋯</td><td> 375</td><td>1243</td><td>  36</td><td> 358</td><td> 140</td><td> 210</td><td> 293</td><td> 813</td><td> 282</td><td>462</td></tr>\n",
       "\t<tr><th scope=row>6</th><td>2599</td><td> 1375</td><td> 743</td><td> 343</td><td>1232</td><td>1686</td><td> 357</td><td>12548</td><td>1304</td><td> 580</td><td>⋯</td><td>2700</td><td>3469</td><td>2662</td><td> 909</td><td>1004</td><td> 492</td><td> 525</td><td> 322</td><td> 240</td><td>204</td></tr>\n",
       "</tbody>\n",
       "</table>\n"
      ],
      "text/latex": [
       "A data.frame: 6 × 551\n",
       "\\begin{tabular}{r|lllllllllllllllllllll}\n",
       "  & TCGA.55.6972.11A & TCGA.86.8075.01A & TCGA.69.7763.01A & TCGA.38.4631.01A & TCGA.05.5425.01A & TCGA.MP.A4T7.01A & TCGA.J2.A4AD.01A & TCGA.38.4625.11A & TCGA.55.8299.01A & TCGA.05.4395.01A & ⋯ & TCGA.69.7978.01A & TCGA.05.4398.01A & TCGA.50.5931.11A & TCGA.49.AARE.01A & TCGA.55.6971.01A & TCGA.NJ.A4YF.01A & TCGA.55.8616.01A & TCGA.53.7624.01A & TCGA.95.7948.01A & TCGA.44.4112.01B\\\\\n",
       "  & <int> & <int> & <int> & <int> & <int> & <int> & <int> & <int> & <int> & <int> & ⋯ & <int> & <int> & <int> & <int> & <int> & <int> & <int> & <int> & <int> & <int>\\\\\n",
       "\\hline\n",
       "\t1 &  573 & 11426 & 1624 & 2567 & 2393 & 1456 & 3719 &  1990 & 2143 & 3131 & ⋯ & 3153 & 6052 &  577 & 5209 & 1369 & 1267 & 2718 & 2020 & 3087 & 591\\\\\n",
       "\t2 &    1 &     3 &    0 &    1 &    0 &    0 &    2 &     9 &    0 &    0 & ⋯ &    3 &    3 &    1 &    2 &    0 &    0 &    0 &    1 &    0 &  20\\\\\n",
       "\t3 &  619 &  2428 & 1588 & 1771 & 2238 & 1851 & 2154 &  1984 & 1452 & 3193 & ⋯ & 2063 & 3726 &  941 & 1229 &  703 & 3955 & 1165 & 1419 & 2389 & 383\\\\\n",
       "\t4 &  370 &  1236 &  498 &  354 &  640 &  650 & 1319 &   608 &  737 & 1326 & ⋯ &  683 & 1336 &  275 &  666 &  479 &  362 &  639 &  891 & 1171 & 871\\\\\n",
       "\t5 &   68 &   888 &  114 &  488 &  468 &  378 &  563 &   161 &  430 &  483 & ⋯ &  375 & 1243 &   36 &  358 &  140 &  210 &  293 &  813 &  282 & 462\\\\\n",
       "\t6 & 2599 &  1375 &  743 &  343 & 1232 & 1686 &  357 & 12548 & 1304 &  580 & ⋯ & 2700 & 3469 & 2662 &  909 & 1004 &  492 &  525 &  322 &  240 & 204\\\\\n",
       "\\end{tabular}\n"
      ],
      "text/markdown": [
       "\n",
       "A data.frame: 6 × 551\n",
       "\n",
       "| <!--/--> | TCGA.55.6972.11A &lt;int&gt; | TCGA.86.8075.01A &lt;int&gt; | TCGA.69.7763.01A &lt;int&gt; | TCGA.38.4631.01A &lt;int&gt; | TCGA.05.5425.01A &lt;int&gt; | TCGA.MP.A4T7.01A &lt;int&gt; | TCGA.J2.A4AD.01A &lt;int&gt; | TCGA.38.4625.11A &lt;int&gt; | TCGA.55.8299.01A &lt;int&gt; | TCGA.05.4395.01A &lt;int&gt; | ⋯ ⋯ | TCGA.69.7978.01A &lt;int&gt; | TCGA.05.4398.01A &lt;int&gt; | TCGA.50.5931.11A &lt;int&gt; | TCGA.49.AARE.01A &lt;int&gt; | TCGA.55.6971.01A &lt;int&gt; | TCGA.NJ.A4YF.01A &lt;int&gt; | TCGA.55.8616.01A &lt;int&gt; | TCGA.53.7624.01A &lt;int&gt; | TCGA.95.7948.01A &lt;int&gt; | TCGA.44.4112.01B &lt;int&gt; |\n",
       "|---|---|---|---|---|---|---|---|---|---|---|---|---|---|---|---|---|---|---|---|---|---|\n",
       "| 1 |  573 | 11426 | 1624 | 2567 | 2393 | 1456 | 3719 |  1990 | 2143 | 3131 | ⋯ | 3153 | 6052 |  577 | 5209 | 1369 | 1267 | 2718 | 2020 | 3087 | 591 |\n",
       "| 2 |    1 |     3 |    0 |    1 |    0 |    0 |    2 |     9 |    0 |    0 | ⋯ |    3 |    3 |    1 |    2 |    0 |    0 |    0 |    1 |    0 |  20 |\n",
       "| 3 |  619 |  2428 | 1588 | 1771 | 2238 | 1851 | 2154 |  1984 | 1452 | 3193 | ⋯ | 2063 | 3726 |  941 | 1229 |  703 | 3955 | 1165 | 1419 | 2389 | 383 |\n",
       "| 4 |  370 |  1236 |  498 |  354 |  640 |  650 | 1319 |   608 |  737 | 1326 | ⋯ |  683 | 1336 |  275 |  666 |  479 |  362 |  639 |  891 | 1171 | 871 |\n",
       "| 5 |   68 |   888 |  114 |  488 |  468 |  378 |  563 |   161 |  430 |  483 | ⋯ |  375 | 1243 |   36 |  358 |  140 |  210 |  293 |  813 |  282 | 462 |\n",
       "| 6 | 2599 |  1375 |  743 |  343 | 1232 | 1686 |  357 | 12548 | 1304 |  580 | ⋯ | 2700 | 3469 | 2662 |  909 | 1004 |  492 |  525 |  322 |  240 | 204 |\n",
       "\n"
      ],
      "text/plain": [
       "  TCGA.55.6972.11A TCGA.86.8075.01A TCGA.69.7763.01A TCGA.38.4631.01A\n",
       "1  573             11426            1624             2567            \n",
       "2    1                 3               0                1            \n",
       "3  619              2428            1588             1771            \n",
       "4  370              1236             498              354            \n",
       "5   68               888             114              488            \n",
       "6 2599              1375             743              343            \n",
       "  TCGA.05.5425.01A TCGA.MP.A4T7.01A TCGA.J2.A4AD.01A TCGA.38.4625.11A\n",
       "1 2393             1456             3719              1990           \n",
       "2    0                0                2                 9           \n",
       "3 2238             1851             2154              1984           \n",
       "4  640              650             1319               608           \n",
       "5  468              378              563               161           \n",
       "6 1232             1686              357             12548           \n",
       "  TCGA.55.8299.01A TCGA.05.4395.01A ⋯ TCGA.69.7978.01A TCGA.05.4398.01A\n",
       "1 2143             3131             ⋯ 3153             6052            \n",
       "2    0                0             ⋯    3                3            \n",
       "3 1452             3193             ⋯ 2063             3726            \n",
       "4  737             1326             ⋯  683             1336            \n",
       "5  430              483             ⋯  375             1243            \n",
       "6 1304              580             ⋯ 2700             3469            \n",
       "  TCGA.50.5931.11A TCGA.49.AARE.01A TCGA.55.6971.01A TCGA.NJ.A4YF.01A\n",
       "1  577             5209             1369             1267            \n",
       "2    1                2                0                0            \n",
       "3  941             1229              703             3955            \n",
       "4  275              666              479              362            \n",
       "5   36              358              140              210            \n",
       "6 2662              909             1004              492            \n",
       "  TCGA.55.8616.01A TCGA.53.7624.01A TCGA.95.7948.01A TCGA.44.4112.01B\n",
       "1 2718             2020             3087             591             \n",
       "2    0                1                0              20             \n",
       "3 1165             1419             2389             383             \n",
       "4  639              891             1171             871             \n",
       "5  293              813              282             462             \n",
       "6  525              322              240             204             "
      ]
     },
     "metadata": {},
     "output_type": "display_data"
    }
   ],
   "source": [
    "rownames(cn) <- cn$gene_name\n",
    "cn <- cn[,-1:-2]\n",
    "head (cn)"
   ]
  },
  {
   "cell_type": "markdown",
   "id": "95949725",
   "metadata": {},
   "source": [
    "Making a data frame with sample ID and cancer type as `samples` and replacing for `cn` dataframe\n"
   ]
  },
  {
   "cell_type": "code",
   "execution_count": 23,
   "id": "2d91eb70",
   "metadata": {},
   "outputs": [
    {
     "data": {
      "text/html": [
       "<table class=\"dataframe\">\n",
       "<caption>A data.frame: 6 × 551</caption>\n",
       "<thead>\n",
       "\t<tr><th></th><th scope=col>TCGA.55.6972.11A</th><th scope=col>TCGA.86.8075.01A</th><th scope=col>TCGA.69.7763.01A</th><th scope=col>TCGA.38.4631.01A</th><th scope=col>TCGA.05.5425.01A</th><th scope=col>TCGA.MP.A4T7.01A</th><th scope=col>TCGA.J2.A4AD.01A</th><th scope=col>TCGA.38.4625.11A</th><th scope=col>TCGA.55.8299.01A</th><th scope=col>TCGA.05.4395.01A</th><th scope=col>⋯</th><th scope=col>TCGA.69.7978.01A</th><th scope=col>TCGA.05.4398.01A</th><th scope=col>TCGA.50.5931.11A</th><th scope=col>TCGA.49.AARE.01A</th><th scope=col>TCGA.55.6971.01A</th><th scope=col>TCGA.NJ.A4YF.01A</th><th scope=col>TCGA.55.8616.01A</th><th scope=col>TCGA.53.7624.01A</th><th scope=col>TCGA.95.7948.01A</th><th scope=col>TCGA.44.4112.01B</th></tr>\n",
       "\t<tr><th></th><th scope=col>&lt;int&gt;</th><th scope=col>&lt;int&gt;</th><th scope=col>&lt;int&gt;</th><th scope=col>&lt;int&gt;</th><th scope=col>&lt;int&gt;</th><th scope=col>&lt;int&gt;</th><th scope=col>&lt;int&gt;</th><th scope=col>&lt;int&gt;</th><th scope=col>&lt;int&gt;</th><th scope=col>&lt;int&gt;</th><th scope=col>⋯</th><th scope=col>&lt;int&gt;</th><th scope=col>&lt;int&gt;</th><th scope=col>&lt;int&gt;</th><th scope=col>&lt;int&gt;</th><th scope=col>&lt;int&gt;</th><th scope=col>&lt;int&gt;</th><th scope=col>&lt;int&gt;</th><th scope=col>&lt;int&gt;</th><th scope=col>&lt;int&gt;</th><th scope=col>&lt;int&gt;</th></tr>\n",
       "</thead>\n",
       "<tbody>\n",
       "\t<tr><th scope=row>1</th><td> 573</td><td>11426</td><td>1624</td><td>2567</td><td>2393</td><td>1456</td><td>3719</td><td> 1990</td><td>2143</td><td>3131</td><td>⋯</td><td>3153</td><td>6052</td><td> 577</td><td>5209</td><td>1369</td><td>1267</td><td>2718</td><td>2020</td><td>3087</td><td>591</td></tr>\n",
       "\t<tr><th scope=row>2</th><td>   1</td><td>    3</td><td>   0</td><td>   1</td><td>   0</td><td>   0</td><td>   2</td><td>    9</td><td>   0</td><td>   0</td><td>⋯</td><td>   3</td><td>   3</td><td>   1</td><td>   2</td><td>   0</td><td>   0</td><td>   0</td><td>   1</td><td>   0</td><td> 20</td></tr>\n",
       "\t<tr><th scope=row>3</th><td> 619</td><td> 2428</td><td>1588</td><td>1771</td><td>2238</td><td>1851</td><td>2154</td><td> 1984</td><td>1452</td><td>3193</td><td>⋯</td><td>2063</td><td>3726</td><td> 941</td><td>1229</td><td> 703</td><td>3955</td><td>1165</td><td>1419</td><td>2389</td><td>383</td></tr>\n",
       "\t<tr><th scope=row>4</th><td> 370</td><td> 1236</td><td> 498</td><td> 354</td><td> 640</td><td> 650</td><td>1319</td><td>  608</td><td> 737</td><td>1326</td><td>⋯</td><td> 683</td><td>1336</td><td> 275</td><td> 666</td><td> 479</td><td> 362</td><td> 639</td><td> 891</td><td>1171</td><td>871</td></tr>\n",
       "\t<tr><th scope=row>5</th><td>  68</td><td>  888</td><td> 114</td><td> 488</td><td> 468</td><td> 378</td><td> 563</td><td>  161</td><td> 430</td><td> 483</td><td>⋯</td><td> 375</td><td>1243</td><td>  36</td><td> 358</td><td> 140</td><td> 210</td><td> 293</td><td> 813</td><td> 282</td><td>462</td></tr>\n",
       "\t<tr><th scope=row>6</th><td>2599</td><td> 1375</td><td> 743</td><td> 343</td><td>1232</td><td>1686</td><td> 357</td><td>12548</td><td>1304</td><td> 580</td><td>⋯</td><td>2700</td><td>3469</td><td>2662</td><td> 909</td><td>1004</td><td> 492</td><td> 525</td><td> 322</td><td> 240</td><td>204</td></tr>\n",
       "</tbody>\n",
       "</table>\n"
      ],
      "text/latex": [
       "A data.frame: 6 × 551\n",
       "\\begin{tabular}{r|lllllllllllllllllllll}\n",
       "  & TCGA.55.6972.11A & TCGA.86.8075.01A & TCGA.69.7763.01A & TCGA.38.4631.01A & TCGA.05.5425.01A & TCGA.MP.A4T7.01A & TCGA.J2.A4AD.01A & TCGA.38.4625.11A & TCGA.55.8299.01A & TCGA.05.4395.01A & ⋯ & TCGA.69.7978.01A & TCGA.05.4398.01A & TCGA.50.5931.11A & TCGA.49.AARE.01A & TCGA.55.6971.01A & TCGA.NJ.A4YF.01A & TCGA.55.8616.01A & TCGA.53.7624.01A & TCGA.95.7948.01A & TCGA.44.4112.01B\\\\\n",
       "  & <int> & <int> & <int> & <int> & <int> & <int> & <int> & <int> & <int> & <int> & ⋯ & <int> & <int> & <int> & <int> & <int> & <int> & <int> & <int> & <int> & <int>\\\\\n",
       "\\hline\n",
       "\t1 &  573 & 11426 & 1624 & 2567 & 2393 & 1456 & 3719 &  1990 & 2143 & 3131 & ⋯ & 3153 & 6052 &  577 & 5209 & 1369 & 1267 & 2718 & 2020 & 3087 & 591\\\\\n",
       "\t2 &    1 &     3 &    0 &    1 &    0 &    0 &    2 &     9 &    0 &    0 & ⋯ &    3 &    3 &    1 &    2 &    0 &    0 &    0 &    1 &    0 &  20\\\\\n",
       "\t3 &  619 &  2428 & 1588 & 1771 & 2238 & 1851 & 2154 &  1984 & 1452 & 3193 & ⋯ & 2063 & 3726 &  941 & 1229 &  703 & 3955 & 1165 & 1419 & 2389 & 383\\\\\n",
       "\t4 &  370 &  1236 &  498 &  354 &  640 &  650 & 1319 &   608 &  737 & 1326 & ⋯ &  683 & 1336 &  275 &  666 &  479 &  362 &  639 &  891 & 1171 & 871\\\\\n",
       "\t5 &   68 &   888 &  114 &  488 &  468 &  378 &  563 &   161 &  430 &  483 & ⋯ &  375 & 1243 &   36 &  358 &  140 &  210 &  293 &  813 &  282 & 462\\\\\n",
       "\t6 & 2599 &  1375 &  743 &  343 & 1232 & 1686 &  357 & 12548 & 1304 &  580 & ⋯ & 2700 & 3469 & 2662 &  909 & 1004 &  492 &  525 &  322 &  240 & 204\\\\\n",
       "\\end{tabular}\n"
      ],
      "text/markdown": [
       "\n",
       "A data.frame: 6 × 551\n",
       "\n",
       "| <!--/--> | TCGA.55.6972.11A &lt;int&gt; | TCGA.86.8075.01A &lt;int&gt; | TCGA.69.7763.01A &lt;int&gt; | TCGA.38.4631.01A &lt;int&gt; | TCGA.05.5425.01A &lt;int&gt; | TCGA.MP.A4T7.01A &lt;int&gt; | TCGA.J2.A4AD.01A &lt;int&gt; | TCGA.38.4625.11A &lt;int&gt; | TCGA.55.8299.01A &lt;int&gt; | TCGA.05.4395.01A &lt;int&gt; | ⋯ ⋯ | TCGA.69.7978.01A &lt;int&gt; | TCGA.05.4398.01A &lt;int&gt; | TCGA.50.5931.11A &lt;int&gt; | TCGA.49.AARE.01A &lt;int&gt; | TCGA.55.6971.01A &lt;int&gt; | TCGA.NJ.A4YF.01A &lt;int&gt; | TCGA.55.8616.01A &lt;int&gt; | TCGA.53.7624.01A &lt;int&gt; | TCGA.95.7948.01A &lt;int&gt; | TCGA.44.4112.01B &lt;int&gt; |\n",
       "|---|---|---|---|---|---|---|---|---|---|---|---|---|---|---|---|---|---|---|---|---|---|\n",
       "| 1 |  573 | 11426 | 1624 | 2567 | 2393 | 1456 | 3719 |  1990 | 2143 | 3131 | ⋯ | 3153 | 6052 |  577 | 5209 | 1369 | 1267 | 2718 | 2020 | 3087 | 591 |\n",
       "| 2 |    1 |     3 |    0 |    1 |    0 |    0 |    2 |     9 |    0 |    0 | ⋯ |    3 |    3 |    1 |    2 |    0 |    0 |    0 |    1 |    0 |  20 |\n",
       "| 3 |  619 |  2428 | 1588 | 1771 | 2238 | 1851 | 2154 |  1984 | 1452 | 3193 | ⋯ | 2063 | 3726 |  941 | 1229 |  703 | 3955 | 1165 | 1419 | 2389 | 383 |\n",
       "| 4 |  370 |  1236 |  498 |  354 |  640 |  650 | 1319 |   608 |  737 | 1326 | ⋯ |  683 | 1336 |  275 |  666 |  479 |  362 |  639 |  891 | 1171 | 871 |\n",
       "| 5 |   68 |   888 |  114 |  488 |  468 |  378 |  563 |   161 |  430 |  483 | ⋯ |  375 | 1243 |   36 |  358 |  140 |  210 |  293 |  813 |  282 | 462 |\n",
       "| 6 | 2599 |  1375 |  743 |  343 | 1232 | 1686 |  357 | 12548 | 1304 |  580 | ⋯ | 2700 | 3469 | 2662 |  909 | 1004 |  492 |  525 |  322 |  240 | 204 |\n",
       "\n"
      ],
      "text/plain": [
       "  TCGA.55.6972.11A TCGA.86.8075.01A TCGA.69.7763.01A TCGA.38.4631.01A\n",
       "1  573             11426            1624             2567            \n",
       "2    1                 3               0                1            \n",
       "3  619              2428            1588             1771            \n",
       "4  370              1236             498              354            \n",
       "5   68               888             114              488            \n",
       "6 2599              1375             743              343            \n",
       "  TCGA.05.5425.01A TCGA.MP.A4T7.01A TCGA.J2.A4AD.01A TCGA.38.4625.11A\n",
       "1 2393             1456             3719              1990           \n",
       "2    0                0                2                 9           \n",
       "3 2238             1851             2154              1984           \n",
       "4  640              650             1319               608           \n",
       "5  468              378              563               161           \n",
       "6 1232             1686              357             12548           \n",
       "  TCGA.55.8299.01A TCGA.05.4395.01A ⋯ TCGA.69.7978.01A TCGA.05.4398.01A\n",
       "1 2143             3131             ⋯ 3153             6052            \n",
       "2    0                0             ⋯    3                3            \n",
       "3 1452             3193             ⋯ 2063             3726            \n",
       "4  737             1326             ⋯  683             1336            \n",
       "5  430              483             ⋯  375             1243            \n",
       "6 1304              580             ⋯ 2700             3469            \n",
       "  TCGA.50.5931.11A TCGA.49.AARE.01A TCGA.55.6971.01A TCGA.NJ.A4YF.01A\n",
       "1  577             5209             1369             1267            \n",
       "2    1                2                0                0            \n",
       "3  941             1229              703             3955            \n",
       "4  275              666              479              362            \n",
       "5   36              358              140              210            \n",
       "6 2662              909             1004              492            \n",
       "  TCGA.55.8616.01A TCGA.53.7624.01A TCGA.95.7948.01A TCGA.44.4112.01B\n",
       "1 2718             2020             3087             591             \n",
       "2    0                1                0              20             \n",
       "3 1165             1419             2389             383             \n",
       "4  639              891             1171             871             \n",
       "5  293              813              282             462             \n",
       "6  525              322              240             204             "
      ]
     },
     "metadata": {},
     "output_type": "display_data"
    }
   ],
   "source": [
    "sampleID <- read.delim(\"~/desktop/THCA/TCGA-LUAD/Data/gdc_sample_sheet.2022-06-11.tsv\")\n",
    "i1 <- sampleID$Data.Type == \"Gene Expression Quantification\"\n",
    "samples <- sampleID[i1, , drop = F]\n",
    "samples <- samples[,7:8]\n",
    "a <- colnames(cn)\n",
    "head (cn)"
   ]
  },
  {
   "cell_type": "markdown",
   "id": "1e660efb",
   "metadata": {},
   "source": [
    "Converting \".\" to \"-\" in sample IDs"
   ]
  },
  {
   "cell_type": "code",
   "execution_count": 24,
   "id": "aa079660",
   "metadata": {},
   "outputs": [],
   "source": [
    "a <- sub('\\\\.', '-', a)\n",
    "a <- sub('\\\\.', '-', a)\n",
    "a <- sub('\\\\.', '-', a)\n",
    "a <- sub('\\\\.', '-', a)"
   ]
  },
  {
   "cell_type": "markdown",
   "id": "59fe25cd",
   "metadata": {},
   "source": [
    "Adding sample type into the `colnames`"
   ]
  },
  {
   "cell_type": "code",
   "execution_count": 25,
   "id": "3e0177fc",
   "metadata": {},
   "outputs": [
    {
     "data": {
      "text/html": [
       "<table class=\"dataframe\">\n",
       "<caption>A data.frame: 6 × 551</caption>\n",
       "<thead>\n",
       "\t<tr><th></th><th scope=col>Solid Tissue Normal</th><th scope=col>Primary Tumor</th><th scope=col>Primary Tumor.1</th><th scope=col>Primary Tumor.2</th><th scope=col>Primary Tumor.3</th><th scope=col>Primary Tumor.4</th><th scope=col>Primary Tumor.5</th><th scope=col>Solid Tissue Normal.1</th><th scope=col>Primary Tumor.6</th><th scope=col>Primary Tumor.7</th><th scope=col>⋯</th><th scope=col>Primary Tumor</th><th scope=col>Primary Tumor.1</th><th scope=col>Solid Tissue Normal</th><th scope=col>Primary Tumor.2</th><th scope=col>Primary Tumor.3</th><th scope=col>Primary Tumor.4</th><th scope=col>Primary Tumor.5</th><th scope=col>Primary Tumor.6</th><th scope=col>Primary Tumor.7</th><th scope=col>Primary Tumor.8</th></tr>\n",
       "\t<tr><th></th><th scope=col>&lt;int&gt;</th><th scope=col>&lt;int&gt;</th><th scope=col>&lt;int&gt;</th><th scope=col>&lt;int&gt;</th><th scope=col>&lt;int&gt;</th><th scope=col>&lt;int&gt;</th><th scope=col>&lt;int&gt;</th><th scope=col>&lt;int&gt;</th><th scope=col>&lt;int&gt;</th><th scope=col>&lt;int&gt;</th><th scope=col>⋯</th><th scope=col>&lt;int&gt;</th><th scope=col>&lt;int&gt;</th><th scope=col>&lt;int&gt;</th><th scope=col>&lt;int&gt;</th><th scope=col>&lt;int&gt;</th><th scope=col>&lt;int&gt;</th><th scope=col>&lt;int&gt;</th><th scope=col>&lt;int&gt;</th><th scope=col>&lt;int&gt;</th><th scope=col>&lt;int&gt;</th></tr>\n",
       "</thead>\n",
       "<tbody>\n",
       "\t<tr><th scope=row>1</th><td> 573</td><td>11426</td><td>1624</td><td>2567</td><td>2393</td><td>1456</td><td>3719</td><td> 1990</td><td>2143</td><td>3131</td><td>⋯</td><td>3153</td><td>6052</td><td> 577</td><td>5209</td><td>1369</td><td>1267</td><td>2718</td><td>2020</td><td>3087</td><td>591</td></tr>\n",
       "\t<tr><th scope=row>2</th><td>   1</td><td>    3</td><td>   0</td><td>   1</td><td>   0</td><td>   0</td><td>   2</td><td>    9</td><td>   0</td><td>   0</td><td>⋯</td><td>   3</td><td>   3</td><td>   1</td><td>   2</td><td>   0</td><td>   0</td><td>   0</td><td>   1</td><td>   0</td><td> 20</td></tr>\n",
       "\t<tr><th scope=row>3</th><td> 619</td><td> 2428</td><td>1588</td><td>1771</td><td>2238</td><td>1851</td><td>2154</td><td> 1984</td><td>1452</td><td>3193</td><td>⋯</td><td>2063</td><td>3726</td><td> 941</td><td>1229</td><td> 703</td><td>3955</td><td>1165</td><td>1419</td><td>2389</td><td>383</td></tr>\n",
       "\t<tr><th scope=row>4</th><td> 370</td><td> 1236</td><td> 498</td><td> 354</td><td> 640</td><td> 650</td><td>1319</td><td>  608</td><td> 737</td><td>1326</td><td>⋯</td><td> 683</td><td>1336</td><td> 275</td><td> 666</td><td> 479</td><td> 362</td><td> 639</td><td> 891</td><td>1171</td><td>871</td></tr>\n",
       "\t<tr><th scope=row>5</th><td>  68</td><td>  888</td><td> 114</td><td> 488</td><td> 468</td><td> 378</td><td> 563</td><td>  161</td><td> 430</td><td> 483</td><td>⋯</td><td> 375</td><td>1243</td><td>  36</td><td> 358</td><td> 140</td><td> 210</td><td> 293</td><td> 813</td><td> 282</td><td>462</td></tr>\n",
       "\t<tr><th scope=row>6</th><td>2599</td><td> 1375</td><td> 743</td><td> 343</td><td>1232</td><td>1686</td><td> 357</td><td>12548</td><td>1304</td><td> 580</td><td>⋯</td><td>2700</td><td>3469</td><td>2662</td><td> 909</td><td>1004</td><td> 492</td><td> 525</td><td> 322</td><td> 240</td><td>204</td></tr>\n",
       "</tbody>\n",
       "</table>\n"
      ],
      "text/latex": [
       "A data.frame: 6 × 551\n",
       "\\begin{tabular}{r|lllllllllllllllllllll}\n",
       "  & Solid Tissue Normal & Primary Tumor & Primary Tumor.1 & Primary Tumor.2 & Primary Tumor.3 & Primary Tumor.4 & Primary Tumor.5 & Solid Tissue Normal.1 & Primary Tumor.6 & Primary Tumor.7 & ⋯ & Primary Tumor & Primary Tumor.1 & Solid Tissue Normal & Primary Tumor.2 & Primary Tumor.3 & Primary Tumor.4 & Primary Tumor.5 & Primary Tumor.6 & Primary Tumor.7 & Primary Tumor.8\\\\\n",
       "  & <int> & <int> & <int> & <int> & <int> & <int> & <int> & <int> & <int> & <int> & ⋯ & <int> & <int> & <int> & <int> & <int> & <int> & <int> & <int> & <int> & <int>\\\\\n",
       "\\hline\n",
       "\t1 &  573 & 11426 & 1624 & 2567 & 2393 & 1456 & 3719 &  1990 & 2143 & 3131 & ⋯ & 3153 & 6052 &  577 & 5209 & 1369 & 1267 & 2718 & 2020 & 3087 & 591\\\\\n",
       "\t2 &    1 &     3 &    0 &    1 &    0 &    0 &    2 &     9 &    0 &    0 & ⋯ &    3 &    3 &    1 &    2 &    0 &    0 &    0 &    1 &    0 &  20\\\\\n",
       "\t3 &  619 &  2428 & 1588 & 1771 & 2238 & 1851 & 2154 &  1984 & 1452 & 3193 & ⋯ & 2063 & 3726 &  941 & 1229 &  703 & 3955 & 1165 & 1419 & 2389 & 383\\\\\n",
       "\t4 &  370 &  1236 &  498 &  354 &  640 &  650 & 1319 &   608 &  737 & 1326 & ⋯ &  683 & 1336 &  275 &  666 &  479 &  362 &  639 &  891 & 1171 & 871\\\\\n",
       "\t5 &   68 &   888 &  114 &  488 &  468 &  378 &  563 &   161 &  430 &  483 & ⋯ &  375 & 1243 &   36 &  358 &  140 &  210 &  293 &  813 &  282 & 462\\\\\n",
       "\t6 & 2599 &  1375 &  743 &  343 & 1232 & 1686 &  357 & 12548 & 1304 &  580 & ⋯ & 2700 & 3469 & 2662 &  909 & 1004 &  492 &  525 &  322 &  240 & 204\\\\\n",
       "\\end{tabular}\n"
      ],
      "text/markdown": [
       "\n",
       "A data.frame: 6 × 551\n",
       "\n",
       "| <!--/--> | Solid Tissue Normal &lt;int&gt; | Primary Tumor &lt;int&gt; | Primary Tumor.1 &lt;int&gt; | Primary Tumor.2 &lt;int&gt; | Primary Tumor.3 &lt;int&gt; | Primary Tumor.4 &lt;int&gt; | Primary Tumor.5 &lt;int&gt; | Solid Tissue Normal.1 &lt;int&gt; | Primary Tumor.6 &lt;int&gt; | Primary Tumor.7 &lt;int&gt; | ⋯ ⋯ | Primary Tumor &lt;int&gt; | Primary Tumor.1 &lt;int&gt; | Solid Tissue Normal &lt;int&gt; | Primary Tumor.2 &lt;int&gt; | Primary Tumor.3 &lt;int&gt; | Primary Tumor.4 &lt;int&gt; | Primary Tumor.5 &lt;int&gt; | Primary Tumor.6 &lt;int&gt; | Primary Tumor.7 &lt;int&gt; | Primary Tumor.8 &lt;int&gt; |\n",
       "|---|---|---|---|---|---|---|---|---|---|---|---|---|---|---|---|---|---|---|---|---|---|\n",
       "| 1 |  573 | 11426 | 1624 | 2567 | 2393 | 1456 | 3719 |  1990 | 2143 | 3131 | ⋯ | 3153 | 6052 |  577 | 5209 | 1369 | 1267 | 2718 | 2020 | 3087 | 591 |\n",
       "| 2 |    1 |     3 |    0 |    1 |    0 |    0 |    2 |     9 |    0 |    0 | ⋯ |    3 |    3 |    1 |    2 |    0 |    0 |    0 |    1 |    0 |  20 |\n",
       "| 3 |  619 |  2428 | 1588 | 1771 | 2238 | 1851 | 2154 |  1984 | 1452 | 3193 | ⋯ | 2063 | 3726 |  941 | 1229 |  703 | 3955 | 1165 | 1419 | 2389 | 383 |\n",
       "| 4 |  370 |  1236 |  498 |  354 |  640 |  650 | 1319 |   608 |  737 | 1326 | ⋯ |  683 | 1336 |  275 |  666 |  479 |  362 |  639 |  891 | 1171 | 871 |\n",
       "| 5 |   68 |   888 |  114 |  488 |  468 |  378 |  563 |   161 |  430 |  483 | ⋯ |  375 | 1243 |   36 |  358 |  140 |  210 |  293 |  813 |  282 | 462 |\n",
       "| 6 | 2599 |  1375 |  743 |  343 | 1232 | 1686 |  357 | 12548 | 1304 |  580 | ⋯ | 2700 | 3469 | 2662 |  909 | 1004 |  492 |  525 |  322 |  240 | 204 |\n",
       "\n"
      ],
      "text/plain": [
       "  Solid Tissue Normal Primary Tumor Primary Tumor.1 Primary Tumor.2\n",
       "1  573                11426         1624            2567           \n",
       "2    1                    3            0               1           \n",
       "3  619                 2428         1588            1771           \n",
       "4  370                 1236          498             354           \n",
       "5   68                  888          114             488           \n",
       "6 2599                 1375          743             343           \n",
       "  Primary Tumor.3 Primary Tumor.4 Primary Tumor.5 Solid Tissue Normal.1\n",
       "1 2393            1456            3719             1990                \n",
       "2    0               0               2                9                \n",
       "3 2238            1851            2154             1984                \n",
       "4  640             650            1319              608                \n",
       "5  468             378             563              161                \n",
       "6 1232            1686             357            12548                \n",
       "  Primary Tumor.6 Primary Tumor.7 ⋯ Primary Tumor Primary Tumor.1\n",
       "1 2143            3131            ⋯ 3153          6052           \n",
       "2    0               0            ⋯    3             3           \n",
       "3 1452            3193            ⋯ 2063          3726           \n",
       "4  737            1326            ⋯  683          1336           \n",
       "5  430             483            ⋯  375          1243           \n",
       "6 1304             580            ⋯ 2700          3469           \n",
       "  Solid Tissue Normal Primary Tumor.2 Primary Tumor.3 Primary Tumor.4\n",
       "1  577                5209            1369            1267           \n",
       "2    1                   2               0               0           \n",
       "3  941                1229             703            3955           \n",
       "4  275                 666             479             362           \n",
       "5   36                 358             140             210           \n",
       "6 2662                 909            1004             492           \n",
       "  Primary Tumor.5 Primary Tumor.6 Primary Tumor.7 Primary Tumor.8\n",
       "1 2718            2020            3087            591            \n",
       "2    0               1               0             20            \n",
       "3 1165            1419            2389            383            \n",
       "4  639             891            1171            871            \n",
       "5  293             813             282            462            \n",
       "6  525             322             240            204            "
      ]
     },
     "metadata": {},
     "output_type": "display_data"
    }
   ],
   "source": [
    "b <- data.frame(Sample.ID = a)\n",
    "c <- merge(b, samples, by.x = \"Sample.ID\", by.y = \"Sample.ID\", sort = F)\n",
    "colnames (cn) <- c$Sample.Type\n",
    "head(cn)"
   ]
  },
  {
   "cell_type": "markdown",
   "id": "a83b503e",
   "metadata": {},
   "source": [
    "## Differentially Expressed Genes (DEGs)"
   ]
  },
  {
   "cell_type": "markdown",
   "id": "789726d8",
   "metadata": {},
   "source": [
    "#### Data Prepration is ready\n",
    "#### Next step will be performed by DESeq2 library"
   ]
  },
  {
   "cell_type": "code",
   "execution_count": null,
   "id": "abfceaeb",
   "metadata": {},
   "outputs": [],
   "source": [
    "install.package(\"DESeq2\")\n"
   ]
  },
  {
   "cell_type": "code",
   "execution_count": null,
   "id": "926509f1",
   "metadata": {},
   "outputs": [],
   "source": [
    "dim(cn)\n",
    "#install.packages(\"DESeq2\")\n",
    "library(DESeq2)\n",
    "\n",
    "gr <- factor(c$Sample.Type)\n",
    "colSums(cn) #Through this we can demonstrates \n",
    "colData <- data.frame(group = gr, type = \"paired-end\")\n",
    "cds <- DESeqDataSetFromMatrix(cn, colData, design = ~group)\n",
    "cds <- DESeq(cds)\n",
    "cnt <- log2(1+(counts(cds, normalize = T))) #getting normalized counts"
   ]
  },
  {
   "cell_type": "code",
   "execution_count": null,
   "id": "d27c6e9e",
   "metadata": {},
   "outputs": [],
   "source": [
    "#DEGs\n",
    "dif <- results(cds, c(\"group\", \"Solid Tissue Normal\" , \"Primary Tumor\"))\n",
    "write.table(dif, \"~/desktop/dif.csv\",  quote = F, col.names = T, row.names = T, sep = \"\\t\")\n",
    "\n",
    "#checkpoint\n",
    "sorted_dif <- data.frame(results(cds, c(\"group\", \"Solid Tissue Normal\" , \"Primary Tumor\")))\n",
    "sorted_dif$padj <- p.adjust(sorted_dif$pvalue, method = \"BH\")\n",
    "sorted_dif <- sorted_dif[order(sorted_dif$padj),]\n",
    "\n",
    "UP  <- subset(sorted_dif, log2FoldChange > 1  & padj < 0.05)\n",
    "DOWN  <- subset(sorted_dif, log2FoldChange < -1  & padj < 0.05)\n",
    "\n",
    "dim(UP); dim(DOWN)"
   ]
  },
  {
   "cell_type": "markdown",
   "id": "9d7f7bf9",
   "metadata": {},
   "source": [
    "The up and down regulated genes exported into two separate files."
   ]
  },
  {
   "cell_type": "code",
   "execution_count": null,
   "id": "dfe53d7f",
   "metadata": {},
   "outputs": [],
   "source": [
    "write.table(UP, \"~/desktop/Up-regulated.csv\",  quote = F, col.names = T, row.names = T, sep = \"\\t\")\n",
    "write.table(DOWN, \"~/desktop/Down-regulated.csv\",  quote = F, col.names = T, row.names = T, sep = \"\\t\")\n",
    "head(UP)\n",
    "head (DOWN)"
   ]
  },
  {
   "cell_type": "markdown",
   "id": "20ca797e",
   "metadata": {},
   "source": [
    "For Checking the quality of the data we utilize several statistical languages such as boxplot analysis, principal component analysis, volcano plot, and Correlation heatmap analysis."
   ]
  },
  {
   "cell_type": "code",
   "execution_count": null,
   "id": "db9b8f90",
   "metadata": {},
   "outputs": [],
   "source": [
    "boxplot(cnt)"
   ]
  },
  {
   "cell_type": "code",
   "execution_count": null,
   "id": "f6a00414",
   "metadata": {},
   "outputs": [],
   "source": [
    "sorted_dif$express <- \"NO\"\n",
    "sorted_dif$express [sorted_dif$log2FoldChange > 1  & sorted_dif$padj < 0.05] <- \"UP\"\n",
    "sorted_dif$express [sorted_dif$log2FoldChange < -1 & sorted_dif$padj < 0.05] <- \"DOWN\"\n",
    "\n",
    "diseased_vs_healthy <- sorted_dif %>%\n",
    "  mutate(gene_type = case_when(log2FoldChange >= 1 & padj <= 0.05 ~ \"up\",\n",
    "                               log2FoldChange <= -1 & padj <= 0.05 ~ \"down\",\n",
    "                               TRUE ~ \"ns\")) \n",
    "\n",
    "\n",
    "ggplot(sorted_dif, aes(log2FoldChange, -log10(padj))) +\n",
    "  geom_point() + \n",
    "  geom_hline(yintercept = -log10(0.05),\n",
    "             linetype = \"dashed\") + \n",
    "  geom_vline(xintercept = c(log2(0.5), log2(2)))\n",
    "\n",
    "cols <- c(\"up\" = \"#ffad73\", \"down\" = \"#26b3ff\", \"ns\" = \"grey\") \n",
    "sizes <- c(\"up\" = 2, \"down\" = 2, \"ns\" = 1) \n",
    "alphas <- c(\"up\" = 1, \"down\" = 1, \"ns\" = 0.5)\n",
    "\n",
    "diseased_vs_healthy %>%\n",
    "  ggplot(aes(x = log2FoldChange,\n",
    "             y = -log10(padj),\n",
    "             fill = gene_type,    \n",
    "             size = gene_type,\n",
    "             alpha = gene_type)) + \n",
    "  geom_point(shape = 21, # Specify shape and colour as fixed local parameters    \n",
    "             colour = \"black\") + \n",
    "  geom_hline(yintercept = -log10(0.05),\n",
    "             linetype = \"dashed\") + \n",
    "  geom_vline(xintercept = c(log2(0.5), log2(2)),\n",
    "             linetype = \"dashed\") +\n",
    "  scale_fill_manual(values = cols) + # Modify point colour\n",
    "  scale_size_manual(values = sizes) + # Modify point size\n",
    "  scale_alpha_manual(values = alphas) + # Modify point transparency\n",
    "  scale_x_continuous(breaks = c(seq(-10, 10, 2)),       \n",
    "                     limits = c(-10, 10))  \n"
   ]
  },
  {
   "cell_type": "markdown",
   "id": "cdeb2299",
   "metadata": {},
   "source": [
    "## WGCNA"
   ]
  },
  {
   "cell_type": "code",
   "execution_count": null,
   "id": "be84b9bd",
   "metadata": {},
   "outputs": [],
   "source": []
  }
 ],
 "metadata": {
  "kernelspec": {
   "display_name": "R",
   "language": "R",
   "name": "ir"
  }
 },
 "nbformat": 4,
 "nbformat_minor": 5
}
